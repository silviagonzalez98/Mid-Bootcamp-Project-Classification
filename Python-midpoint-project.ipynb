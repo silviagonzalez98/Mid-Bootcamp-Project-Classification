{
 "cells": [
  {
   "cell_type": "markdown",
   "id": "a252ac4b",
   "metadata": {},
   "source": [
    "# Importing packages"
   ]
  },
  {
   "cell_type": "code",
   "execution_count": 1,
   "id": "06de69cd",
   "metadata": {},
   "outputs": [
    {
     "name": "stdout",
     "output_type": "stream",
     "text": [
      "········\n"
     ]
    }
   ],
   "source": [
    "import pandas as pd\n",
    "import re\n",
    "import numpy as np\n",
    "import matplotlib.pyplot as plt\n",
    "import seaborn as sns\n",
    "import scipy.stats as stats\n",
    "import os\n",
    "from scipy.special import inv_boxcox\n",
    "from sklearn.model_selection import train_test_split\n",
    "from sklearn.linear_model import LinearRegression\n",
    "from sklearn.metrics import r2_score, mean_squared_error, mean_absolute_error\n",
    "from sklearn.preprocessing import OneHotEncoder, Normalizer, LabelEncoder\n",
    "from statsmodels.stats.outliers_influence import variance_inflation_factor\n",
    "from statsmodels.tools.tools import add_constant\n",
    "from patsy import dmatrices\n",
    "import statsmodels.api as sm\n",
    "from sqlalchemy import create_engine\n",
    "\n",
    "pd.options.display.max_columns = None\n",
    "\n",
    "import warnings\n",
    "warnings.filterwarnings('ignore')\n",
    "\n",
    "import getpass\n",
    "password = getpass.getpass()\n",
    "\n",
    "connection_string = 'mysql+pymysql://root:' + password + '@localhost/bank'\n",
    "engine = create_engine(connection_string)"
   ]
  },
  {
   "cell_type": "markdown",
   "id": "8a4b977a",
   "metadata": {},
   "source": [
    "# Loading Data"
   ]
  },
  {
   "cell_type": "code",
   "execution_count": 2,
   "id": "e20f9e63",
   "metadata": {},
   "outputs": [
    {
     "data": {
      "text/html": [
       "<div>\n",
       "<style scoped>\n",
       "    .dataframe tbody tr th:only-of-type {\n",
       "        vertical-align: middle;\n",
       "    }\n",
       "\n",
       "    .dataframe tbody tr th {\n",
       "        vertical-align: top;\n",
       "    }\n",
       "\n",
       "    .dataframe thead th {\n",
       "        text-align: right;\n",
       "    }\n",
       "</style>\n",
       "<table border=\"1\" class=\"dataframe\">\n",
       "  <thead>\n",
       "    <tr style=\"text-align: right;\">\n",
       "      <th></th>\n",
       "      <th>customer_number</th>\n",
       "      <th>offer_accepted</th>\n",
       "      <th>reward</th>\n",
       "      <th>mailer_type</th>\n",
       "      <th>income_level</th>\n",
       "      <th>bank_accounts_open</th>\n",
       "      <th>overdraft_protection</th>\n",
       "      <th>credit_rating</th>\n",
       "      <th>credit_cards_held</th>\n",
       "      <th>homes_owned</th>\n",
       "      <th>household_size</th>\n",
       "      <th>own_your_home</th>\n",
       "      <th>average_balance</th>\n",
       "      <th>q1_balance</th>\n",
       "      <th>q2_balance</th>\n",
       "      <th>q3_balance</th>\n",
       "    </tr>\n",
       "  </thead>\n",
       "  <tbody>\n",
       "    <tr>\n",
       "      <th>0</th>\n",
       "      <td>1</td>\n",
       "      <td>No</td>\n",
       "      <td>Air Miles</td>\n",
       "      <td>Letter</td>\n",
       "      <td>High</td>\n",
       "      <td>1</td>\n",
       "      <td>No</td>\n",
       "      <td>High</td>\n",
       "      <td>2</td>\n",
       "      <td>1</td>\n",
       "      <td>4</td>\n",
       "      <td>No</td>\n",
       "      <td>1160.75</td>\n",
       "      <td>1669</td>\n",
       "      <td>877</td>\n",
       "      <td>1095</td>\n",
       "    </tr>\n",
       "    <tr>\n",
       "      <th>1</th>\n",
       "      <td>2</td>\n",
       "      <td>No</td>\n",
       "      <td>Air Miles</td>\n",
       "      <td>Letter</td>\n",
       "      <td>Medium</td>\n",
       "      <td>1</td>\n",
       "      <td>No</td>\n",
       "      <td>Medium</td>\n",
       "      <td>2</td>\n",
       "      <td>2</td>\n",
       "      <td>5</td>\n",
       "      <td>Yes</td>\n",
       "      <td>147.25</td>\n",
       "      <td>39</td>\n",
       "      <td>106</td>\n",
       "      <td>78</td>\n",
       "    </tr>\n",
       "    <tr>\n",
       "      <th>2</th>\n",
       "      <td>3</td>\n",
       "      <td>No</td>\n",
       "      <td>Air Miles</td>\n",
       "      <td>Postcard</td>\n",
       "      <td>High</td>\n",
       "      <td>2</td>\n",
       "      <td>No</td>\n",
       "      <td>Medium</td>\n",
       "      <td>2</td>\n",
       "      <td>1</td>\n",
       "      <td>2</td>\n",
       "      <td>Yes</td>\n",
       "      <td>276.50</td>\n",
       "      <td>367</td>\n",
       "      <td>352</td>\n",
       "      <td>145</td>\n",
       "    </tr>\n",
       "    <tr>\n",
       "      <th>3</th>\n",
       "      <td>4</td>\n",
       "      <td>No</td>\n",
       "      <td>Air Miles</td>\n",
       "      <td>Letter</td>\n",
       "      <td>Medium</td>\n",
       "      <td>2</td>\n",
       "      <td>No</td>\n",
       "      <td>High</td>\n",
       "      <td>1</td>\n",
       "      <td>1</td>\n",
       "      <td>4</td>\n",
       "      <td>No</td>\n",
       "      <td>1219.00</td>\n",
       "      <td>1578</td>\n",
       "      <td>1760</td>\n",
       "      <td>1119</td>\n",
       "    </tr>\n",
       "    <tr>\n",
       "      <th>4</th>\n",
       "      <td>5</td>\n",
       "      <td>No</td>\n",
       "      <td>Air Miles</td>\n",
       "      <td>Letter</td>\n",
       "      <td>Medium</td>\n",
       "      <td>1</td>\n",
       "      <td>No</td>\n",
       "      <td>Medium</td>\n",
       "      <td>2</td>\n",
       "      <td>1</td>\n",
       "      <td>6</td>\n",
       "      <td>Yes</td>\n",
       "      <td>1211.00</td>\n",
       "      <td>2140</td>\n",
       "      <td>1357</td>\n",
       "      <td>982</td>\n",
       "    </tr>\n",
       "    <tr>\n",
       "      <th>...</th>\n",
       "      <td>...</td>\n",
       "      <td>...</td>\n",
       "      <td>...</td>\n",
       "      <td>...</td>\n",
       "      <td>...</td>\n",
       "      <td>...</td>\n",
       "      <td>...</td>\n",
       "      <td>...</td>\n",
       "      <td>...</td>\n",
       "      <td>...</td>\n",
       "      <td>...</td>\n",
       "      <td>...</td>\n",
       "      <td>...</td>\n",
       "      <td>...</td>\n",
       "      <td>...</td>\n",
       "      <td>...</td>\n",
       "    </tr>\n",
       "    <tr>\n",
       "      <th>17971</th>\n",
       "      <td>17996</td>\n",
       "      <td>No</td>\n",
       "      <td>Cash Back</td>\n",
       "      <td>Letter</td>\n",
       "      <td>High</td>\n",
       "      <td>1</td>\n",
       "      <td>No</td>\n",
       "      <td>Low</td>\n",
       "      <td>1</td>\n",
       "      <td>1</td>\n",
       "      <td>5</td>\n",
       "      <td>Yes</td>\n",
       "      <td>167.50</td>\n",
       "      <td>136</td>\n",
       "      <td>65</td>\n",
       "      <td>71</td>\n",
       "    </tr>\n",
       "    <tr>\n",
       "      <th>17972</th>\n",
       "      <td>17997</td>\n",
       "      <td>No</td>\n",
       "      <td>Cash Back</td>\n",
       "      <td>Letter</td>\n",
       "      <td>High</td>\n",
       "      <td>1</td>\n",
       "      <td>No</td>\n",
       "      <td>Low</td>\n",
       "      <td>3</td>\n",
       "      <td>1</td>\n",
       "      <td>3</td>\n",
       "      <td>Yes</td>\n",
       "      <td>850.50</td>\n",
       "      <td>984</td>\n",
       "      <td>940</td>\n",
       "      <td>943</td>\n",
       "    </tr>\n",
       "    <tr>\n",
       "      <th>17973</th>\n",
       "      <td>17998</td>\n",
       "      <td>No</td>\n",
       "      <td>Cash Back</td>\n",
       "      <td>Letter</td>\n",
       "      <td>High</td>\n",
       "      <td>1</td>\n",
       "      <td>No</td>\n",
       "      <td>Low</td>\n",
       "      <td>2</td>\n",
       "      <td>1</td>\n",
       "      <td>4</td>\n",
       "      <td>No</td>\n",
       "      <td>1087.25</td>\n",
       "      <td>918</td>\n",
       "      <td>767</td>\n",
       "      <td>1170</td>\n",
       "    </tr>\n",
       "    <tr>\n",
       "      <th>17974</th>\n",
       "      <td>17999</td>\n",
       "      <td>No</td>\n",
       "      <td>Cash Back</td>\n",
       "      <td>Letter</td>\n",
       "      <td>Medium</td>\n",
       "      <td>1</td>\n",
       "      <td>No</td>\n",
       "      <td>Medium</td>\n",
       "      <td>4</td>\n",
       "      <td>2</td>\n",
       "      <td>2</td>\n",
       "      <td>Yes</td>\n",
       "      <td>1022.25</td>\n",
       "      <td>626</td>\n",
       "      <td>983</td>\n",
       "      <td>865</td>\n",
       "    </tr>\n",
       "    <tr>\n",
       "      <th>17975</th>\n",
       "      <td>18000</td>\n",
       "      <td>No</td>\n",
       "      <td>Cash Back</td>\n",
       "      <td>Letter</td>\n",
       "      <td>Low</td>\n",
       "      <td>2</td>\n",
       "      <td>No</td>\n",
       "      <td>Medium</td>\n",
       "      <td>2</td>\n",
       "      <td>1</td>\n",
       "      <td>3</td>\n",
       "      <td>No</td>\n",
       "      <td>1056.00</td>\n",
       "      <td>265</td>\n",
       "      <td>1378</td>\n",
       "      <td>1978</td>\n",
       "    </tr>\n",
       "  </tbody>\n",
       "</table>\n",
       "<p>17976 rows × 16 columns</p>\n",
       "</div>"
      ],
      "text/plain": [
       "       customer_number offer_accepted     reward mailer_type income_level  \\\n",
       "0                    1             No  Air Miles      Letter         High   \n",
       "1                    2             No  Air Miles      Letter       Medium   \n",
       "2                    3             No  Air Miles    Postcard         High   \n",
       "3                    4             No  Air Miles      Letter       Medium   \n",
       "4                    5             No  Air Miles      Letter       Medium   \n",
       "...                ...            ...        ...         ...          ...   \n",
       "17971            17996             No  Cash Back      Letter         High   \n",
       "17972            17997             No  Cash Back      Letter         High   \n",
       "17973            17998             No  Cash Back      Letter         High   \n",
       "17974            17999             No  Cash Back      Letter       Medium   \n",
       "17975            18000             No  Cash Back      Letter          Low   \n",
       "\n",
       "       bank_accounts_open overdraft_protection credit_rating  \\\n",
       "0                       1                   No          High   \n",
       "1                       1                   No        Medium   \n",
       "2                       2                   No        Medium   \n",
       "3                       2                   No          High   \n",
       "4                       1                   No        Medium   \n",
       "...                   ...                  ...           ...   \n",
       "17971                   1                   No           Low   \n",
       "17972                   1                   No           Low   \n",
       "17973                   1                   No           Low   \n",
       "17974                   1                   No        Medium   \n",
       "17975                   2                   No        Medium   \n",
       "\n",
       "       credit_cards_held  homes_owned  household_size own_your_home  \\\n",
       "0                      2            1               4            No   \n",
       "1                      2            2               5           Yes   \n",
       "2                      2            1               2           Yes   \n",
       "3                      1            1               4            No   \n",
       "4                      2            1               6           Yes   \n",
       "...                  ...          ...             ...           ...   \n",
       "17971                  1            1               5           Yes   \n",
       "17972                  3            1               3           Yes   \n",
       "17973                  2            1               4            No   \n",
       "17974                  4            2               2           Yes   \n",
       "17975                  2            1               3            No   \n",
       "\n",
       "       average_balance  q1_balance  q2_balance  q3_balance  \n",
       "0              1160.75        1669         877        1095  \n",
       "1               147.25          39         106          78  \n",
       "2               276.50         367         352         145  \n",
       "3              1219.00        1578        1760        1119  \n",
       "4              1211.00        2140        1357         982  \n",
       "...                ...         ...         ...         ...  \n",
       "17971           167.50         136          65          71  \n",
       "17972           850.50         984         940         943  \n",
       "17973          1087.25         918         767        1170  \n",
       "17974          1022.25         626         983         865  \n",
       "17975          1056.00         265        1378        1978  \n",
       "\n",
       "[17976 rows x 16 columns]"
      ]
     },
     "execution_count": 2,
     "metadata": {},
     "output_type": "execute_result"
    }
   ],
   "source": [
    "query = '''SELECT * from credit_card_classification.credit_card_data;'''\n",
    "\n",
    "data = pd.read_sql_query(query, engine)\n",
    "data"
   ]
  },
  {
   "cell_type": "markdown",
   "id": "d51b8d16",
   "metadata": {},
   "source": [
    "## EXPLORE"
   ]
  },
  {
   "cell_type": "code",
   "execution_count": 4,
   "id": "356c4e26",
   "metadata": {},
   "outputs": [
    {
     "data": {
      "text/plain": [
       "(17976, 16)"
      ]
     },
     "execution_count": 4,
     "metadata": {},
     "output_type": "execute_result"
    }
   ],
   "source": [
    "data.shape"
   ]
  },
  {
   "cell_type": "markdown",
   "id": "232d5f40",
   "metadata": {},
   "source": [
    "## Exploring categoricals"
   ]
  },
  {
   "cell_type": "code",
   "execution_count": 5,
   "id": "74f67422",
   "metadata": {},
   "outputs": [
    {
     "data": {
      "text/html": [
       "<div>\n",
       "<style scoped>\n",
       "    .dataframe tbody tr th:only-of-type {\n",
       "        vertical-align: middle;\n",
       "    }\n",
       "\n",
       "    .dataframe tbody tr th {\n",
       "        vertical-align: top;\n",
       "    }\n",
       "\n",
       "    .dataframe thead th {\n",
       "        text-align: right;\n",
       "    }\n",
       "</style>\n",
       "<table border=\"1\" class=\"dataframe\">\n",
       "  <thead>\n",
       "    <tr style=\"text-align: right;\">\n",
       "      <th></th>\n",
       "      <th>offer_accepted</th>\n",
       "      <th>reward</th>\n",
       "      <th>mailer_type</th>\n",
       "      <th>income_level</th>\n",
       "      <th>overdraft_protection</th>\n",
       "      <th>credit_rating</th>\n",
       "      <th>own_your_home</th>\n",
       "    </tr>\n",
       "  </thead>\n",
       "  <tbody>\n",
       "    <tr>\n",
       "      <th>0</th>\n",
       "      <td>No</td>\n",
       "      <td>Air Miles</td>\n",
       "      <td>Letter</td>\n",
       "      <td>High</td>\n",
       "      <td>No</td>\n",
       "      <td>High</td>\n",
       "      <td>No</td>\n",
       "    </tr>\n",
       "    <tr>\n",
       "      <th>1</th>\n",
       "      <td>No</td>\n",
       "      <td>Air Miles</td>\n",
       "      <td>Letter</td>\n",
       "      <td>Medium</td>\n",
       "      <td>No</td>\n",
       "      <td>Medium</td>\n",
       "      <td>Yes</td>\n",
       "    </tr>\n",
       "    <tr>\n",
       "      <th>2</th>\n",
       "      <td>No</td>\n",
       "      <td>Air Miles</td>\n",
       "      <td>Postcard</td>\n",
       "      <td>High</td>\n",
       "      <td>No</td>\n",
       "      <td>Medium</td>\n",
       "      <td>Yes</td>\n",
       "    </tr>\n",
       "    <tr>\n",
       "      <th>3</th>\n",
       "      <td>No</td>\n",
       "      <td>Air Miles</td>\n",
       "      <td>Letter</td>\n",
       "      <td>Medium</td>\n",
       "      <td>No</td>\n",
       "      <td>High</td>\n",
       "      <td>No</td>\n",
       "    </tr>\n",
       "    <tr>\n",
       "      <th>4</th>\n",
       "      <td>No</td>\n",
       "      <td>Air Miles</td>\n",
       "      <td>Letter</td>\n",
       "      <td>Medium</td>\n",
       "      <td>No</td>\n",
       "      <td>Medium</td>\n",
       "      <td>Yes</td>\n",
       "    </tr>\n",
       "  </tbody>\n",
       "</table>\n",
       "</div>"
      ],
      "text/plain": [
       "  offer_accepted     reward mailer_type income_level overdraft_protection  \\\n",
       "0             No  Air Miles      Letter         High                   No   \n",
       "1             No  Air Miles      Letter       Medium                   No   \n",
       "2             No  Air Miles    Postcard         High                   No   \n",
       "3             No  Air Miles      Letter       Medium                   No   \n",
       "4             No  Air Miles      Letter       Medium                   No   \n",
       "\n",
       "  credit_rating own_your_home  \n",
       "0          High            No  \n",
       "1        Medium           Yes  \n",
       "2        Medium           Yes  \n",
       "3          High            No  \n",
       "4        Medium           Yes  "
      ]
     },
     "execution_count": 5,
     "metadata": {},
     "output_type": "execute_result"
    }
   ],
   "source": [
    "data_cat = data.select_dtypes('object')\n",
    "data_cat.head()"
   ]
  },
  {
   "cell_type": "markdown",
   "id": "d201f98c",
   "metadata": {},
   "source": [
    "#### XXXXXXXXXXXXXXXXX"
   ]
  },
  {
   "cell_type": "markdown",
   "id": "6469928a",
   "metadata": {},
   "source": [
    "## Exploring numericals"
   ]
  },
  {
   "cell_type": "code",
   "execution_count": null,
   "id": "a0a767c2",
   "metadata": {},
   "outputs": [],
   "source": []
  },
  {
   "cell_type": "markdown",
   "id": "fa43490a",
   "metadata": {},
   "source": [
    "## CLEAN"
   ]
  },
  {
   "cell_type": "code",
   "execution_count": null,
   "id": "5cce0b10",
   "metadata": {},
   "outputs": [],
   "source": []
  },
  {
   "cell_type": "markdown",
   "id": "8d2a7df2",
   "metadata": {},
   "source": [
    "## HANDLING CATEGORICALS"
   ]
  },
  {
   "cell_type": "code",
   "execution_count": null,
   "id": "396afe8a",
   "metadata": {},
   "outputs": [],
   "source": []
  },
  {
   "cell_type": "markdown",
   "id": "fe27abe5",
   "metadata": {},
   "source": [
    "## CHECK MILTICOLINEARITY"
   ]
  },
  {
   "cell_type": "code",
   "execution_count": null,
   "id": "8a9de1b7",
   "metadata": {},
   "outputs": [],
   "source": [
    "# VIF"
   ]
  },
  {
   "cell_type": "markdown",
   "id": "6e658f2d",
   "metadata": {},
   "source": [
    "## FEATURE ENGINEERING"
   ]
  },
  {
   "cell_type": "code",
   "execution_count": null,
   "id": "97fa0256",
   "metadata": {},
   "outputs": [],
   "source": [
    "# CATEGORICALS (BUCKETING ENCODING)"
   ]
  },
  {
   "cell_type": "code",
   "execution_count": null,
   "id": "05b6e83d",
   "metadata": {},
   "outputs": [],
   "source": []
  },
  {
   "cell_type": "code",
   "execution_count": null,
   "id": "9f52c1c2",
   "metadata": {},
   "outputs": [],
   "source": [
    "# NUMERICALS (OUTLIERS, BOXCOX, NAN)"
   ]
  },
  {
   "cell_type": "code",
   "execution_count": null,
   "id": "1f154a12",
   "metadata": {},
   "outputs": [],
   "source": []
  },
  {
   "cell_type": "markdown",
   "id": "4963587f",
   "metadata": {},
   "source": [
    "## STANDARDIZE DATA"
   ]
  },
  {
   "cell_type": "code",
   "execution_count": null,
   "id": "5b3e7cb1",
   "metadata": {},
   "outputs": [],
   "source": [
    "# MINMAX, STANDARDSCALER, NORMALIZER"
   ]
  },
  {
   "cell_type": "code",
   "execution_count": null,
   "id": "0c57c4fb",
   "metadata": {},
   "outputs": [],
   "source": []
  },
  {
   "cell_type": "markdown",
   "id": "5eabb1ec",
   "metadata": {},
   "source": [
    "## SELECT MODEL"
   ]
  },
  {
   "cell_type": "code",
   "execution_count": null,
   "id": "af99ee02",
   "metadata": {},
   "outputs": [],
   "source": [
    "#LINEAR, POLINOMIAL, KNN, RANDOM FOREST"
   ]
  },
  {
   "cell_type": "code",
   "execution_count": null,
   "id": "c16119d8",
   "metadata": {},
   "outputs": [],
   "source": []
  },
  {
   "cell_type": "markdown",
   "id": "e2fbf59c",
   "metadata": {},
   "source": [
    "## EVALUATE MODEL"
   ]
  },
  {
   "cell_type": "code",
   "execution_count": null,
   "id": "66a208ad",
   "metadata": {},
   "outputs": [],
   "source": [
    "#CLASSIFICATION: CONFUSION, MATRIX, KAPPA, F1 SCORE, MCC"
   ]
  }
 ],
 "metadata": {
  "kernelspec": {
   "display_name": "Python 3",
   "language": "python",
   "name": "python3"
  },
  "language_info": {
   "codemirror_mode": {
    "name": "ipython",
    "version": 3
   },
   "file_extension": ".py",
   "mimetype": "text/x-python",
   "name": "python",
   "nbconvert_exporter": "python",
   "pygments_lexer": "ipython3",
   "version": "3.8.8"
  }
 },
 "nbformat": 4,
 "nbformat_minor": 5
}
